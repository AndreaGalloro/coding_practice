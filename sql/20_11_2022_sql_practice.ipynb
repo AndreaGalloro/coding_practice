{
 "cells": [
  {
   "cell_type": "markdown",
   "metadata": {},
   "source": [
    "# SQL Practice 11/20/2022\n",
    "\n",
    "## Q1\n",
    "\n",
    "Given a table of posts, for each user who posted at least twice in 2021, write a query to find the number of days between each users firts post and last post of the year. The output should include the user and the number of days between their first and last post.\n",
    "\n",
    "Data Information\n",
    "\n",
    "`posts` **Table**\n",
    "\n",
    "Column Name | Type\n",
    "------------|----\n",
    "user_id | integer\n",
    "post_id | integer\n",
    "post_date | timestamp\n",
    "post_content | string\n",
    "\n",
    "post_date is stored as month-day-year hour:minute:second\n",
    "\n",
    "My solution is below:"
   ]
  },
  {
   "cell_type": "markdown",
   "metadata": {},
   "source": [
    "```SQL\n",
    "SELECT user_id,\n",
    "      (MAX(post_date::date) - MIN(post_date::date)) AS days_between\n",
    "  FROM posts\n",
    "  \n",
    "  WHERE DATE_PART('year', post_date::date) = 2021\n",
    "  \n",
    "  GROUP BY user_id\n",
    "    HAVING COUNT(*) > 1\n",
    ";\n",
    "```"
   ]
  },
  {
   "cell_type": "markdown",
   "metadata": {},
   "source": [
    "At first I thought we might need to use a `ROW_NUMBER()` partitioning by the `user_id` to identify the number of times someone has posted, then somehow get the difference between the last post and the first post by using the highest and smallest row number. However, this was overcomplicating things. I had forgotten that you could apply `MAX` and `MIN` functions to dates. It should also be noted that the double colon notation \"::\" is meant to convert the timestamp data type into a date. Lastly, I didn't realize that you could use aggregate functions in the `HAVING` clause without calling it as a column in the `SELECT` statement.\n",
    "\n",
    "This also assumes that we don't have access to the `YEAR()` or `DATEDIFF()` functions.\n",
    "\n",
    "You could also use the `EXTRACT()` function instead of `DATE_PART()` as `EXTRACT()` is used in standard SQL, but `DATE_PART()` is specific to postreSQL. That query would be:\n",
    "\n",
    "```SQL\n",
    "SELECT user_id,\n",
    "      (MAX(post_date::date) - MIN(post_date::date)) AS days_between\n",
    "  FROM posts\n",
    "  \n",
    "  WHERE EXTRACT(YEAR FROM post_date) = 2021\n",
    "  \n",
    "  GROUP BY user_id\n",
    "    HAVING COUNT(*) > 1\n",
    ";\n",
    "```"
   ]
  },
  {
   "cell_type": "markdown",
   "metadata": {},
   "source": [
    "## Q2\n",
    "\n",
    "Given the tables below, write a query to find the top 2 users who sent the most internal messages in August of 2022. Dislpay the ID's of these two users and the number of messages they sent, ordered by the number of messages in descending order.\n",
    "\n",
    "Data Information\n",
    "\n",
    "`messages` **Table**\n",
    "\n",
    "Column Name | Type\n",
    "------------|------\n",
    "message_id | integer\n",
    "sender_id | integer\n",
    "reciever_id | integer\n",
    "content | varchar\n",
    "sent_date | datetime\n",
    "\n",
    "`sent_date` is stored as month-day-year hour:minute:second\n",
    "\n",
    "You can assume that no two users have the same number of messages.\n",
    "\n",
    "My solution is below:"
   ]
  },
  {
   "cell_type": "markdown",
   "metadata": {},
   "source": [
    "```SQL\n",
    "SELECT sender_id,\n",
    "      COUNT(message_id) AS message_count\n",
    "  FROM messages\n",
    "  \n",
    "  WHERE EXTRACT(MONTH FROM sent_date) = 08 \n",
    "      AND EXTRACT(YEAR FROM sent_date) = 2022\n",
    "  \n",
    "  GROUP BY sender_id\n",
    "  \n",
    "  ORDER BY message_count DESC\n",
    "  \n",
    "  LIMIT 2\n",
    ";\n",
    "```"
   ]
  },
  {
   "cell_type": "markdown",
   "metadata": {},
   "source": [
    "We are once again needing to filter by specific date information, so we can use `EXTRACT()` to filter by month and year. Lastly, since we can assume that there are no two users with the same number of messages, we can use the `LIMIT` clause together with the `ORDER BY` clause to only show the top two."
   ]
  },
  {
   "cell_type": "markdown",
   "metadata": {},
   "source": [
    "## Q3\n",
    "\n",
    "Given the two tables below containing information on trades and users, write a query to list the top three cities that have the most completed trade orders in descending order. Output only the city and the number of orders.\n",
    "\n",
    "Data Information:\n",
    "\n",
    "`trades` **Table**\n",
    "\n",
    "Column Name | Type\n",
    "------------|------\n",
    "order_id | integer\n",
    "user_id | integer\n",
    "price | decimal\n",
    "quantity | integer\n",
    "status | string\n",
    "timestamp | datetime\n",
    "\n",
    "`status` can only be either `\"Completed\"`, or `\"Canceled\"`\n",
    "\n",
    "`users` **Table**\n",
    "\n",
    "Column Name | Type\n",
    "------------|-------\n",
    "user_id | integer\n",
    "city | string\n",
    "email | string\n",
    "sign_up_date | datetime\n",
    "\n",
    "My solution is below"
   ]
  },
  {
   "cell_type": "markdown",
   "metadata": {},
   "source": [
    "```SQL\n",
    "WITH joined AS (\n",
    "  SELECT trades.order_id, \n",
    "      trades.status, \n",
    "      users.city\n",
    "      \n",
    "      FROM trades LEFT JOIN users\n",
    "        ON trades.user_id = users.user_id\n",
    "      )\n",
    "\n",
    "SELECT city, COUNT(order_id) AS total_orders\n",
    "  FROM joined\n",
    "\n",
    "  WHERE status = 'Completed'\n",
    "  \n",
    "  GROUP BY city\n",
    "  \n",
    "  ORDER BY total_orders DESC\n",
    "  \n",
    "  LIMIT 3\n",
    ";\n",
    "```"
   ]
  },
  {
   "cell_type": "markdown",
   "metadata": {},
   "source": [
    "You can also write this without using a `WITH` statement as follows."
   ]
  },
  {
   "cell_type": "markdown",
   "metadata": {},
   "source": [
    "```SQL\n",
    "SELECT users.city, COUNT(trades.order_id) AS total_orders\n",
    "  FROM trades LEFT JOIN users\n",
    "    ON trades.user_id = users.user_id\n",
    "\n",
    "  WHERE trades.status = 'Completed'\n",
    "  \n",
    "  GROUP BY users.city\n",
    "  \n",
    "  ORDER BY total_orders DESC\n",
    "  \n",
    "  LIMIT 3\n",
    ";\n",
    "```"
   ]
  },
  {
   "cell_type": "markdown",
   "metadata": {},
   "source": [
    "## Q4\n",
    "\n",
    "Given the events table on app analytics, write a query to get the app's click-through rate (CTR%) in 2022. Your output should be in the form of a percentage rounded to two decimal places.\n",
    "\n",
    "Data Information\n",
    "\n",
    "`events` **Table**\n",
    "\n",
    "Column Name | Type\n",
    "------------|------\n",
    "app_id | integer\n",
    "event_type | string\n",
    "timestamp | datetime\n",
    "\n",
    "My solution is below"
   ]
  },
  {
   "cell_type": "markdown",
   "metadata": {},
   "source": [
    "```SQL\n",
    "WITH added AS (\n",
    "  SELECT app_id,\n",
    "    COUNT(CASE WHEN event_type = 'click' THEN 1 END) AS clicks,\n",
    "    COUNT(CASE WHEN event_type = 'impression' THEN 1 END) AS impressions\n",
    "    \n",
    "    FROM events\n",
    "    \n",
    "    WHERE EXTRACT(YEAR FROM timestamp) = 2022\n",
    "    \n",
    "    GROUP BY app_id\n",
    ")\n",
    "    \n",
    "SELECT app_id, ROUND(100.0*clicks / impressions, 2) FROM added\n",
    ";\n",
    "```"
   ]
  },
  {
   "cell_type": "markdown",
   "metadata": {},
   "source": [
    "I realize that my original solution does something unecessary. Instead of using a `WITH` clause to create new columns clicks and impressions, then doing the calculations on those columns in a different `SELECT` statement, I can do the calculations using the `COUNT(CASE)` statements directly."
   ]
  },
  {
   "cell_type": "markdown",
   "metadata": {},
   "source": [
    "```SQL\n",
    "SELECT \n",
    "  app_id,\n",
    "  ROUND(100.0 * \n",
    "    COUNT(CASE WHEN event_type = 'click' THEN 1 ELSE NULL END) / \n",
    "    COUNT(CASE WHEN event_type = 'impression' THEN 1 ELSE NULL END)\n",
    "    , 2) AS ctr\n",
    "    \n",
    "  FROM events\n",
    "    \n",
    "  WHERE EXTRACT(YEAR FROM timestamp) = 2022\n",
    "    \n",
    "  GROUP BY app_id\n",
    "    \n",
    ";\n",
    "```"
   ]
  },
  {
   "cell_type": "markdown",
   "metadata": {},
   "source": [
    "Lastly, another important point is that we want the CTR to be a float, but the calculations are being done on integers. So we multiply by `100.0` which converts the datatype to a float."
   ]
  },
  {
   "cell_type": "markdown",
   "metadata": {},
   "source": []
  }
 ],
 "metadata": {
  "kernelspec": {
   "display_name": "Python 3.10.8 64-bit (microsoft store)",
   "language": "python",
   "name": "python3"
  },
  "language_info": {
   "name": "python",
   "version": "3.10.8"
  },
  "orig_nbformat": 4,
  "vscode": {
   "interpreter": {
    "hash": "dc27b5ea16c50597207fc41a8e29023354377bb996637c8acdb6a50256c3f870"
   }
  }
 },
 "nbformat": 4,
 "nbformat_minor": 2
}
