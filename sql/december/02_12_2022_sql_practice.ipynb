{
 "cells": [
  {
   "cell_type": "markdown",
   "metadata": {},
   "source": [
    "# SQL Practice 12/2/2022\n",
    "\n",
    "## Q1\n",
    "\n",
    "Given the table of tweets below, write a query to calculate the 3-day rolling average of tweets published by each user for each date that a tweet was posted. Output the user id, the tweet date, and rolling averages rounded to 2 decimal places.\n",
    "\n",
    "Data Information\n",
    "\n",
    "`tweets` **Table**\n",
    "\n",
    "Column Name | Type\n",
    "------------|-----\n",
    "twee_id | integer\n",
    "user_id | integer\n",
    "tweet_date | timestamp\n",
    "\n",
    "You can assume rows in this table are consecutive and ordered by date. Each row represents a different day. A day that does not correspond to a row in this table is not counted.\n",
    "\n",
    "My solution is below"
   ]
  },
  {
   "cell_type": "markdown",
   "metadata": {},
   "source": [
    "```SQL\n",
    "WITH counted AS (\n",
    "  SELECT\n",
    "    user_id,\n",
    "    tweet_date,\n",
    "    COUNT(*) AS count\n",
    "  FROM tweets\n",
    "\n",
    "  GROUP BY user_id, tweet_date\n",
    "\n",
    "  ORDER BY user_id, tweet_date\n",
    ")\n",
    "\n",
    "SELECT user_id,\n",
    "  tweet_date,\n",
    "  ROUND(AVG(count) OVER (PARTITION BY user_id ROWS BETWEEN 2 PRECEDING AND CURRENT ROW), 2) AS rolling_avg_3days\n",
    "  \n",
    "FROM counted\n",
    "\n",
    ";\n",
    "```"
   ]
  },
  {
   "cell_type": "markdown",
   "metadata": {},
   "source": [
    "What we are doing is first getting a count of each users tweets per day. So we apply a group by twice once over user_id and again over tweet_dates. Then we order by the same partition. Then to compute the rolling average we need to use a window function on the counts partioning now only over the user id and limiting it to only 2 before and the current row. This is not something I new you could do using a window function!\n",
    "\n",
    "The syntax of \n",
    "```SQL\n",
    "(PARTITION BY user_id ROWS BETWEEN 2 PRECEDING AND CURRENT ROW)\n",
    "```\n",
    "was new to me\n",
    "\n",
    "Also, instead of ordering by the tweet date in the CTE, we could order by the tweet date in the window function.\n",
    "```SQL\n",
    "(PARTITION BY user_id ORDER BY tweet_date ROWS BETWEEN 2 PRECEDING AND CURRENT ROW)\n",
    "```\n",
    "\n",
    "Lastly, I originally had it written as \n",
    "```SQL\n",
    "ROUND(AVG(count), 2) OVER (PARTITION BY user_id ROWS BETWEEN 2 PRECEDING AND CURRENT ROW) AS rolling_avg_3days\n",
    "```\n",
    "But ROUND is not an aggregate function and cannot be applied over a partition. so the ROUND function must contain the entire window expression."
   ]
  },
  {
   "cell_type": "markdown",
   "metadata": {},
   "source": [
    "## Q2\n",
    "\n",
    "Given the table of customers below, write a query to identify the top two highest-grossing products within each category in 2022. Output the category, product, and total spent\n",
    "\n",
    "Data Information\n",
    "\n",
    "`product_spend` **Table**\n",
    "\n",
    "Column Name | Type\n",
    "------------|-----\n",
    "category | string\n",
    "product | string\n",
    "user_id | integer\n",
    "spend | decimal\n",
    "transaction_date | timestamp\n",
    "\n",
    "My solution is below"
   ]
  },
  {
   "cell_type": "markdown",
   "metadata": {},
   "source": [
    "```SQL\n",
    "WITH numbered AS (\n",
    "  SELECT\n",
    "    category,\n",
    "    product,\n",
    "    SUM(spend) AS total_spend,\n",
    "    ROW_NUMBER() OVER (PARTITION BY category ORDER BY SUM(spend) DESC) AS ranking\n",
    "  FROM product_spend\n",
    "  \n",
    "  WHERE EXTRACT(YEAR FROM transaction_date) = '2022'\n",
    "\n",
    "  GROUP BY category, product\n",
    "\n",
    "  ORDER BY category, SUM(spend) DESC\n",
    "  )\n",
    "SELECT category, product, total_spend\n",
    "\n",
    "FROM numbered\n",
    "\n",
    "WHERE ranking <= 2\n",
    ";\n",
    "```"
   ]
  }
 ],
 "metadata": {
  "kernelspec": {
   "display_name": "Python 3.10.8 64-bit (microsoft store)",
   "language": "python",
   "name": "python3"
  },
  "language_info": {
   "name": "python",
   "version": "3.10.8"
  },
  "orig_nbformat": 4,
  "vscode": {
   "interpreter": {
    "hash": "dc27b5ea16c50597207fc41a8e29023354377bb996637c8acdb6a50256c3f870"
   }
  }
 },
 "nbformat": 4,
 "nbformat_minor": 2
}
