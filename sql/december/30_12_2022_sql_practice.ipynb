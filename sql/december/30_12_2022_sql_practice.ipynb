{
 "cells": [
  {
   "cell_type": "markdown",
   "metadata": {},
   "source": [
    "# SQL Practice 12/3/2022\n",
    "\n",
    "## Q1\n",
    "\n",
    "Given the 3 table below, write a query to determine the top 5 artists whose songs appear in the top 10 of the `global_song_rank` table the highest number of times, call this \"song appearances\"\n",
    "\n",
    "Output the top 5 artists names in ascending order along with their song appearences ranking. The order of rank should take precedence\n",
    "\n",
    "Data Information\n",
    "\n",
    "`artists` **Table**\n",
    "\n",
    "Column Name | Type\n",
    "------------|-----\n",
    "artist_id | integer\n",
    "artist_name | varchar\n",
    "\n",
    "`songs` **Table**\n",
    "\n",
    "Column Name | Type\n",
    "------------|-----\n",
    "song_id | integer\n",
    "artist_id | integer\n",
    "\n",
    "`global_song_rank` **Table**\n",
    "\n",
    "Column Name | Type\n",
    "------------|-----\n",
    "day | integer (1 - 52)\n",
    "song_id | integer\n",
    "rank | integer (1 - 1,000,000) \n",
    "\n",
    "\n",
    "\n",
    "You can assume if two artists' have the same number of appearances, the artists should have the same rank. The rank number should be continuous and not skipped. i.e. 1,2,2,3,4,5 not 1,2,2,4,5,\n",
    "\n",
    "My solution is below"
   ]
  },
  {
   "attachments": {},
   "cell_type": "markdown",
   "metadata": {},
   "source": [
    "```SQL\n",
    "WITH artist_songs AS (SELECT\n",
    "  songs.artist_id,\n",
    "  COUNT(songs.song_id) AS song_count\n",
    "\n",
    "FROM songs JOIN global_song_rank\n",
    "  ON songs.song_id = global_song_rank.song_id\n",
    "\n",
    "WHERE global_song_rank.rank <= 10\n",
    "\n",
    "GROUP BY songs.artist_id\n",
    "),\n",
    "\n",
    "artist_rank AS (SELECT \n",
    "  artist_id,\n",
    "  DENSE_RANK() OVER (ORDER BY song_count DESC) AS artist_rank\n",
    "\n",
    "FROM artist_songs\n",
    ")\n",
    "\n",
    "SELECT artists.artist_name,\n",
    "  artist_rank.artist_rank\n",
    "  \n",
    "  FROM artists JOIN artist_rank\n",
    "    ON artists.artist_id = artist_rank.artist_id\n",
    "  WHERE artist_rank.artist_rank <= 5\n",
    "  ORDER BY artist_rank.artist_rank, artists.artist_name\n",
    "\n",
    ";\n",
    "```"
   ]
  }
 ],
 "metadata": {
  "kernelspec": {
   "display_name": "Python 3.10.8 64-bit (microsoft store)",
   "language": "python",
   "name": "python3"
  },
  "language_info": {
   "name": "python",
   "version": "3.10.9"
  },
  "orig_nbformat": 4,
  "vscode": {
   "interpreter": {
    "hash": "dc27b5ea16c50597207fc41a8e29023354377bb996637c8acdb6a50256c3f870"
   }
  }
 },
 "nbformat": 4,
 "nbformat_minor": 2
}
