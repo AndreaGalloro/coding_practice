{
 "cells": [
  {
   "cell_type": "markdown",
   "metadata": {},
   "source": [
    "# SQL Practice 11/17/2022\n",
    "\n",
    "## Q1\n",
    "\n",
    "You are given a table of job postings and the goal is to write a query that gets the number of companies that have posted duplicate job listings. A duplicate job listing is one that has the same title and description.\n",
    "\n",
    "Data Information\n",
    "\n",
    "`job_listings` **Table**\n",
    "\n",
    "Column Name | Type\n",
    "------------|------\n",
    "job_id | integer\n",
    "company_id | integer\n",
    "title | string\n",
    "job_description | string\n",
    "\n",
    "My solution is below:"
   ]
  },
  {
   "cell_type": "markdown",
   "metadata": {},
   "source": [
    "```SQL\n",
    "WITH job_listings_rank AS (\n",
    "  SELECT\n",
    "    ROW_NUMBER() OVER (PARTITION BY (company_id, title, job_description)) AS ranking,\n",
    "    company_id,\n",
    "    title,\n",
    "    job_description\n",
    "  FROM job_listings\n",
    "  )\n",
    "  \n",
    "SELECT COUNT(*) AS companies_w_duplicate_jobs\n",
    "  FROM job_listings_rank\n",
    "  WHERE ranking = 2\n",
    ";\n",
    "```"
   ]
  },
  {
   "cell_type": "markdown",
   "metadata": {},
   "source": [
    "This will produce a table like the following\n",
    "\n",
    "|companies_w_duplicate_jobs|\n",
    "|:------------------------:|\n",
    "|3|\n",
    "\n",
    "We can use the `ROW_NUMBER` window function over a partition of all three of the columns we care about duplicates in to create a new table with a column that counts the number of times it has seen a row with the same values in those three columns. Then we count the number of entries that have seen a row twice, representing a duplicate job posting from the same company."
   ]
  },
  {
   "cell_type": "markdown",
   "metadata": {},
   "source": [
    "## Q2\n",
    "\n",
    "Given two tables described below, write a SQL query using a window function to show which candidates scored the highest from each college.\n",
    "\n",
    "Data Information\n",
    "\n",
    "`candidateColleges` **Table**\n",
    "\n",
    "Column Name | Type\n",
    "------------|-----\n",
    "college_id | integer\n",
    "candidate_name | string\n",
    "\n",
    "`candidateInterviews` **Table**\n",
    "\n",
    "Column Name | Type\n",
    "------------|-----\n",
    "interview_id | integer\n",
    "candidate_name | string\n",
    "interview_score | integer\n",
    "\n",
    "An interview score is a number between 1 and 5 inclusive\n",
    "\n",
    "My solution is below:"
   ]
  },
  {
   "cell_type": "markdown",
   "metadata": {},
   "source": [
    "```SQL\n",
    "WITH full_table AS (\n",
    "    SELECT \n",
    "        candidateCollege.college_id,\n",
    "        candidateInterviews.interview_name,\n",
    "        candidateInterviews.interview_score,\n",
    "        RANK() OVER (PARTITION BY candidateCollege.college_id ORDER BY candidateInterviews.interview_score DESC) AS rank\n",
    "\n",
    "        FROM candidateColleges LEFT JOIN candidateInterviews\n",
    "            ON candidateColleges.candidate_name = candidateInterviews.candidate_name\n",
    "    )\n",
    "\n",
    "SELECT college_id, candidate_name\n",
    "    FROM full_table\n",
    "    WHERE rank = 1\n",
    ";\n",
    "```"
   ]
  },
  {
   "cell_type": "markdown",
   "metadata": {},
   "source": [
    "We are first creating a new table that is the join of the two tables given, because we need information about a column from each table. in that join we include a window function using the `RANK` aggregation partiationing by the `college_id` and ordering by the `interview_score` in descending order, so that the highest interview score for each college is listed as rank 1.\n",
    "\n",
    "Then we select from that joined table the `college_id` and `candidate_name` conditioning on where the rank is 1."
   ]
  }
 ],
 "metadata": {
  "kernelspec": {
   "display_name": "Python 3.10.8 64-bit (microsoft store)",
   "language": "python",
   "name": "python3"
  },
  "language_info": {
   "name": "python",
   "version": "3.10.8"
  },
  "orig_nbformat": 4,
  "vscode": {
   "interpreter": {
    "hash": "dc27b5ea16c50597207fc41a8e29023354377bb996637c8acdb6a50256c3f870"
   }
  }
 },
 "nbformat": 4,
 "nbformat_minor": 2
}
