{
 "cells": [
  {
   "cell_type": "markdown",
   "metadata": {},
   "source": [
    "# SQL Practice 11/20/2022\n",
    "\n",
    "## Q1\n",
    "\n",
    "New users sign up with emails and each recieve a text confirmation to activate their account. Given the tables below, write a query to display the id of users who did not confirm on the first day of sign up, but confirmed on the second day.\n",
    "\n",
    "`emails` **Table**\n",
    "\n",
    "Column Name | Type\n",
    "------------|-----\n",
    "email_id | integer\n",
    "user_id | integer\n",
    "signup_date | datetime\n",
    "\n",
    "`texts` **Table**\n",
    "\n",
    "Column Name | Type\n",
    "------------|------\n",
    "text_id | integer\n",
    "email_id | integer\n",
    "signup_action | string\n",
    "action_date | datetime\n",
    "\n",
    "`signup_action` can only take the values of `\"Confirmed\"`, or `\"Not Confirmed\"`. `action_date` is the date the user confirmed their sign up using the text.\n",
    "\n",
    "My solution is below"
   ]
  },
  {
   "cell_type": "markdown",
   "metadata": {},
   "source": [
    "```SQL\n",
    "SELECT emails.user_id\n",
    "  FROM emails LEFT JOIN texts\n",
    "    ON emails.email_id = texts.email_id\n",
    "    \n",
    "  WHERE EXTRACT(DAYS FROM (texts.action_date - emails.signup_date)) = 1  \n",
    "    AND texts.signup_action = 'Confirmed'\n",
    ";\n",
    "```"
   ]
  },
  {
   "cell_type": "markdown",
   "metadata": {},
   "source": [
    "We need to join the two tables using the `email_id` as the common key. Now we need a way to filter by those who confirmed on the next day, we can take the difference of the two dates and use the `EXTRACT()` function to only look at the number of days.\n",
    "\n",
    "This can also be done by using the `INTERVAL` statement to add a day to the `signup_date` and compare that to the `action_date`. That query is below."
   ]
  },
  {
   "cell_type": "markdown",
   "metadata": {},
   "source": [
    "```SQL\n",
    "SELECT emails.user_id\n",
    "  FROM emails LEFT JOIN texts\n",
    "    ON emails.email_id = texts.email_id\n",
    "    \n",
    "  WHERE texts.action_date = emails.email_date + INTERVAL '1 DAY'  \n",
    "    AND texts.signup_action = 'Confirmed'\n",
    ";\n",
    "```"
   ]
  },
  {
   "cell_type": "markdown",
   "metadata": {},
   "source": [
    "## Q2\n",
    "\n",
    "Your company wants to launch a new credit card, you are asked to analyze how many new credit cards were issued each month. Given the table below, write a query that outputs the name of each credit card and the difference in issued amount between the month with the most cards issued and the month with the least cards issued. Order the results according to the biggest difference.\n",
    "\n",
    "Data Information\n",
    "\n",
    "`monthly_cards_issued` **Table**\n",
    "\n",
    "Column Name | Type\n",
    "------------|------\n",
    "issue_month | integer\n",
    "issue_year | integer\n",
    "card_name | string\n",
    "issued_amount | integer\n",
    "\n",
    "My solution is below"
   ]
  },
  {
   "cell_type": "markdown",
   "metadata": {},
   "source": [
    "```SQL\n",
    "SELECT card_name,\n",
    "    MAX(issued_amount) - MIN(issued_amount) AS difference \n",
    "  FROM monthly_cards_issued\n",
    "  \n",
    "  GROUP BY card_name\n",
    "  \n",
    "  ORDER BY difference DESC\n",
    ";\n",
    "```"
   ]
  },
  {
   "cell_type": "markdown",
   "metadata": {},
   "source": [
    "## Q3\n",
    "\n",
    "You are trying to find the mean number of items bought per order on an online store, rounded to 1 decimal place.\n",
    "\n",
    "Data Information\n",
    "\n",
    "`items_per_order` **Table** \n",
    "\n",
    "Column Name | Type\n",
    "------------|------\n",
    "item_count | integer\n",
    "order_occurences | integer\n",
    "\n",
    "So, we are given the number of orders that have a specific number of items in them, but not the order data itself.\n",
    "\n",
    "My solution is below"
   ]
  },
  {
   "cell_type": "markdown",
   "metadata": {},
   "source": [
    "```SQL\n",
    "SELECT ROUND(SUM(item_count::DECIMAL * order_occurrences) / SUM(order_occurrences)\n",
    "      , 1) AS mean\n",
    "  FROM items_per_order;\n",
    "```"
   ]
  },
  {
   "cell_type": "markdown",
   "metadata": {},
   "source": [
    "Given the information that we have we just need to compute a weighted average. Lastly, we need to force the output to be a float instead of an integer, so we convert one of the columns in the calculation to a `DECIMAL` type using the `::` operator. "
   ]
  },
  {
   "cell_type": "markdown",
   "metadata": {},
   "source": [
    "## Q4\n",
    "\n",
    "A pharmacy wants to better understand how different drugs are selling. Given the data below, write a query to find the top most profitable drugs sold and how much profit they made. \n",
    "\n",
    "Data Information\n",
    "\n",
    "`pharmacy_sales` **Table**\n",
    "\n",
    "Column Name | Type\n",
    "------------|------\n",
    "product_id | integer\n",
    "units_sold | integer\n",
    "total_sales | decimal\n",
    "cogs | decimal\n",
    "manufactuter | varchar\n",
    "drug | varchar\n",
    "\n",
    "`cogs` stands for \"Cost of Goods Sold,\" which is the direct cost associated with producing the drug. `total_sales` is the revenue generated by all sales of the drug. You may assume there are no ties in profits and that no product has more than one manufacturer.\n",
    "\n",
    "My solution is below"
   ]
  },
  {
   "cell_type": "markdown",
   "metadata": {},
   "source": [
    "```SQL\n",
    "SELECT drug,\n",
    "    total_sales - cogs AS profit\n",
    "\n",
    "  FROM pharmacy_sales\n",
    "  \n",
    "  ORDER BY profit DESC\n",
    "\n",
    "  LIMIT 3\n",
    ";\n",
    "```"
   ]
  }
 ],
 "metadata": {
  "kernelspec": {
   "display_name": "Python 3.10.8 64-bit (microsoft store)",
   "language": "python",
   "name": "python3"
  },
  "language_info": {
   "name": "python",
   "version": "3.10.8"
  },
  "orig_nbformat": 4,
  "vscode": {
   "interpreter": {
    "hash": "dc27b5ea16c50597207fc41a8e29023354377bb996637c8acdb6a50256c3f870"
   }
  }
 },
 "nbformat": 4,
 "nbformat_minor": 2
}
