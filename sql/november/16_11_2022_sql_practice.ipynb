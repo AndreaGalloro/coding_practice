{
 "cells": [
  {
   "cell_type": "markdown",
   "metadata": {},
   "source": [
    "# SQL Practice 11/16/2022\n",
    "\n",
    "## Q1\n",
    "\n",
    "Assume you are given a table containing viewership by device type, strictly limited to \"laptop\", \"tablet\", and \"phone\". Write a query to compare the viewership on laptops vs mobile devices (tablets and phones)\n",
    "\n",
    "Output the total viewership for laptop and mobile devices as new columns `laptop_views` and `mobile_views`\n",
    "\n",
    "Data Information\n",
    "\n",
    "`viewership` **Table:**\n",
    "Column Name | Type\n",
    "------------|------\n",
    "user_id | integer\n",
    "device_type | string\n",
    "view_time | timestamp\n",
    "\n",
    "My solution is below:"
   ]
  },
  {
   "cell_type": "markdown",
   "metadata": {},
   "source": [
    "```SQL\n",
    "SELECT \n",
    "    SUM(CASE WHEN device_type = 'laptop' THEN 1 ELSE 0 END) AS laptop_views,\n",
    "    SUM(CASE WHEN device_type IN ('tablet', 'phone') THEN 1 ELSE 0 END) AS mobile_views\n",
    "FROM viewership\n",
    ";\n",
    "```"
   ]
  },
  {
   "cell_type": "markdown",
   "metadata": {},
   "source": [
    "I actually did not originally know about the `CASE` command in SQL! Here we are using it in the SELECT statement, combined with the sum function to implement a count of multiple values in the device_type column. <br>\n",
    "Another example of using it in the select statement is below:\n",
    "\n",
    "```SQL\n",
    "SELECT OrderID, Quantity,\n",
    "CASE\n",
    "    WHEN Quantity > 30 THEN 'The quantity is greater than 30'\n",
    "    WHEN Quantity = 30 THEN 'The quantity is 30'\n",
    "    ELSE 'The quantity is under 30'\n",
    "END AS QuantityText\n",
    "FROM OrderDetails\n",
    ";\n",
    "```\n",
    "\n",
    "However, here we are using multiple cases to create a new column `QuantityText` and defining its values based on information in another column.\n",
    "\n",
    "Using a `CASE` statement allows you to count multiple conditions, such as the query below:\n",
    "```SQL\n",
    "SELECT\n",
    "    CASE WHEN year = 'FR' THEN 'FR'\n",
    "        WHEN year = 'SO' THEN 'SO'\n",
    "        WHEN year = 'JR' THEN 'JR'\n",
    "        WHEN year = 'SR' THEN 'SR'\n",
    "        ELSE 'No Year Data' END AS year_group,\n",
    "        COUNT(1) AS count\n",
    "    FROM benn.college_football_players\n",
    "    GROUP BY year_group\n",
    ";\n",
    "```\n",
    "\n",
    "Another solution to the original question that does not create new columns but contains the same information would be the following:\n",
    "\n",
    "```SQL\n",
    "SELECT \n",
    "    CASE WHEN device_type = 'laptop' THEN 'laptop'\n",
    "        WHEN device_type IN ('tablet', 'phone') THEN 'mobile'\n",
    "        END AS device,\n",
    "        COUNT(1) AS count\n",
    "    FROM viewership\n",
    "    GROUP BY device\n",
    ";\n",
    "```\n",
    "\n",
    "The original query solution would produce a table like:\n",
    "\n",
    "laptop_views | mobile_views\n",
    "-------------|--------------\n",
    "2 | 3\n",
    "\n",
    "While the second solution would produce a table like this:\n",
    "\n",
    "device | count\n",
    "-------------|--------------\n",
    "laptop | 2\n",
    "mobile | 3"
   ]
  },
  {
   "cell_type": "markdown",
   "metadata": {},
   "source": [
    "```SQL\n",
    "\n",
    "\n",
    "```"
   ]
  }
 ],
 "metadata": {
  "kernelspec": {
   "display_name": "Python 3.10.8 64-bit (microsoft store)",
   "language": "python",
   "name": "python3"
  },
  "language_info": {
   "name": "python",
   "version": "3.10.8"
  },
  "orig_nbformat": 4,
  "vscode": {
   "interpreter": {
    "hash": "dc27b5ea16c50597207fc41a8e29023354377bb996637c8acdb6a50256c3f870"
   }
  }
 },
 "nbformat": 4,
 "nbformat_minor": 2
}
