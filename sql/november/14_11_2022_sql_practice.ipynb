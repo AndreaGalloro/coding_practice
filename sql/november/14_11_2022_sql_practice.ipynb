{
 "cells": [
  {
   "cell_type": "markdown",
   "metadata": {},
   "source": [
    "# SQL Practice 11/14/2022\n",
    "\n",
    "## Q1\n",
    "Suppose a company wants to identify bottlenecks in their production and they need to identify which parts have begun the assembly process, but are not yet finished.\n",
    "\n",
    "Data Information\n",
    "`parts_assembly` **Table**\n",
    "\n",
    "Column Name | Type\n",
    "------------|------\n",
    "part | string\n",
    "finish_date | datetime\n",
    "assembly_step | integer"
   ]
  },
  {
   "cell_type": "markdown",
   "metadata": {},
   "source": [
    "The question is to identify what parts have an empty finish_date. It can be assumed that if the part is in the dataframe that the assembly process has begun.\n",
    "\n",
    "My solution is below:\n",
    "\n",
    "```SQL\n",
    "SELECT * FROM pars_assembly\n",
    "    WHERE finish_date IS NULL\n",
    "    GROUP BY part\n",
    ";\n",
    "\n",
    "```"
   ]
  }
 ],
 "metadata": {
  "kernelspec": {
   "display_name": "Python 3.10.8 64-bit (microsoft store)",
   "language": "python",
   "name": "python3"
  },
  "language_info": {
   "name": "python",
   "version": "3.10.8"
  },
  "orig_nbformat": 4,
  "vscode": {
   "interpreter": {
    "hash": "dc27b5ea16c50597207fc41a8e29023354377bb996637c8acdb6a50256c3f870"
   }
  }
 },
 "nbformat": 4,
 "nbformat_minor": 2
}
