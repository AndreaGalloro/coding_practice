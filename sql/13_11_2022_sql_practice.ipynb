{
 "cells": [
  {
   "cell_type": "markdown",
   "metadata": {},
   "source": [
    "# SQL Query Practice 13/11/2022\n"
   ]
  },
  {
   "cell_type": "markdown",
   "metadata": {},
   "source": [
    "## Q1\n",
    "Given a table of candidates and their skills, you're tasked with finding the candidates best suited for an open Data Science job. You want to find candidates who are proficient in Python, Tableau, and PostgreSQL.\n",
    "\n",
    "Write a query to list the candidates who possess all of the required skils for the job. Sort the ouput by candidate ID in ascending order. You may assume there are no duplicates in the candidates table."
   ]
  },
  {
   "cell_type": "markdown",
   "metadata": {},
   "source": [
    "### Data Information\n",
    "\n",
    "`candidates` **Table**\n",
    "\n",
    "Column Name | Type \n",
    "------------|------\n",
    "candidate_id| integer\n",
    "skill|varchar\n",
    "\n",
    "My solution is below:"
   ]
  },
  {
   "cell_type": "markdown",
   "metadata": {},
   "source": [
    "```SQL\n",
    "SELECT candidate_id FROM candidates\n",
    "    WHERE skill IN ('Python', 'Tableau', 'PostgreSQL')\n",
    "    GROUP BY candidate_id\n",
    "        HAVING COUNT(candidate_id) = 3\n",
    "    ORDER BY candidate_id ASC \n",
    ";\n",
    "```"
   ]
  },
  {
   "cell_type": "markdown",
   "metadata": {},
   "source": [
    "We only want our output to contain the candidate_id's so we only select that column from the data. We only care about candidates that have Python, Tableau, and PostgreSQL, but if we only include the `WHERE` clause then it gives us back candidates that don't have all three. That's where the `HAVING` clause comes in, as it only includes candidates that have three rows in the resulting table, meaning that they have all three skills."
   ]
  },
  {
   "cell_type": "markdown",
   "metadata": {},
   "source": [
    "## Q2\n",
    "Assume you are given the tables below about Facebook **pages** and **page likes**. Write a query to return the page IDs of all of the Facebook pages that don't have any likes. The output shold be in ascending order of page_id.\n",
    "\n",
    "### Data Information\n",
    "`pages` **Table:**\n",
    "\n",
    "Column Name | Type\n",
    "------------|------\n",
    "page_id | integer\n",
    "name | varchar\n",
    "\n",
    "`page_likes` **Table:**\n",
    "\n",
    "Column Name | Type\n",
    "------------|------\n",
    "user_id | integer\n",
    "page_id | integer\n",
    "liked_date | datetime\n",
    "\n",
    "My solution is below:"
   ]
  },
  {
   "cell_type": "markdown",
   "metadata": {},
   "source": [
    "```SQL\n",
    "SELECT page_id FROM pages\n",
    "    WHERE page_id NOT IN (\n",
    "        SELECT page_id FROM page_likes\n",
    "        ;\n",
    "    )\n",
    "ORDER BY page_id ASC\n",
    ";\n",
    "```"
   ]
  },
  {
   "cell_type": "markdown",
   "metadata": {},
   "source": [
    "We want page_id's that don't appear in the page_likes table, that is how we can tell that they have no likes. So we use a subquery to get the page_id's of pages in the page_likes table, and then use a where clause to check that the page_id is not represented in that table.\n",
    "\n",
    "It turns out, this can also be solved using a join. You can `LEFT JOIN` `pages` onto `page_likes`, with `page_id` as the common key, but only return values in `pages` that have a missing value in `page_likes`. That query is below:"
   ]
  },
  {
   "cell_type": "markdown",
   "metadata": {},
   "source": [
    "\n",
    "```SQL\n",
    "SELECT pages.page_id \n",
    "    FROM pages LEFT JOIN page_likes\n",
    "        ON pages.page_id = page_likes.page_id\n",
    "        WHERE page_likes.page_id IS NULL\n",
    "    ORDER BY page_id ASC\n",
    ";\n",
    "```"
   ]
  },
  {
   "cell_type": "markdown",
   "metadata": {},
   "source": [
    "## Q3\n",
    "Assume you are given a table of users and you want to determine if there are any repeat values. Write a query to return all usernames that show up in the table more than once.\n",
    "\n",
    "### Data Information:\n",
    "\n",
    "`users` **Table**\n",
    "\n",
    "Column Name | Type\n",
    "------------|-----\n",
    "user_id | integer\n",
    "user_name | varchar\n",
    "email | varchar\n",
    "\n",
    "My solution is below:"
   ]
  },
  {
   "cell_type": "markdown",
   "metadata": {},
   "source": [
    "```SQL\n",
    "SELECT user_name, COUNT(user_name) FROM users\n",
    "    GROUP BY user_name\n",
    "        HAVING COUNT(user_name) > 1\n",
    ";\n",
    "```"
   ]
  }
 ],
 "metadata": {
  "kernelspec": {
   "display_name": "Python 3.10.7 64-bit (microsoft store)",
   "language": "python",
   "name": "python3"
  },
  "language_info": {
   "codemirror_mode": {
    "name": "ipython",
    "version": 3
   },
   "file_extension": ".py",
   "mimetype": "text/x-python",
   "name": "python",
   "nbconvert_exporter": "python",
   "pygments_lexer": "ipython3",
   "version": "3.10.7"
  },
  "orig_nbformat": 4,
  "vscode": {
   "interpreter": {
    "hash": "dc27b5ea16c50597207fc41a8e29023354377bb996637c8acdb6a50256c3f870"
   }
  }
 },
 "nbformat": 4,
 "nbformat_minor": 2
}
