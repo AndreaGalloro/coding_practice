{
 "cells": [
  {
   "cell_type": "markdown",
   "metadata": {},
   "source": [
    "# SQL Practice 12/1/2022\n",
    "\n",
    "## Q1\n",
    "\n",
    "Given the table of transactions below, write a query to obtain the third transaction of every user. Output the user_id, spend, and transaction_date.\n",
    "\n",
    "Data Information\n",
    "\n",
    "`transactions` **Table**\n",
    "\n",
    "Column Name | Type\n",
    "------------|-----\n",
    "user_id | integer\n",
    "spend | decimal\n",
    "transaction_date | timestamp\n",
    "\n",
    "My solution is below"
   ]
  },
  {
   "cell_type": "markdown",
   "metadata": {},
   "source": [
    "```SQL\n",
    "WITH ranked_table AS (\n",
    "  SELECT *,\n",
    "    ROW_NUMBER() OVER (PARTITION BY user_id ORDER BY transaction_date) as ranking\n",
    "  FROM transactions\n",
    ")\n",
    "\n",
    "SELECT user_id, spend, transaction_date\n",
    "FROM ranked_table\n",
    "WHERE ranking = 3\n",
    "\n",
    ";\n",
    "```"
   ]
  },
  {
   "cell_type": "markdown",
   "metadata": {},
   "source": [
    "So we first add a new column of row numbers partitioned by the user_id to our table as a CTE. We order this row numbering by the transaction date in ascending order. Then in the actual `SELECT` clause we filter by the which row is numbered third, and since they are ordered by transaction date this will be the users third ever transaction."
   ]
  },
  {
   "cell_type": "markdown",
   "metadata": {},
   "source": [
    "## Q2\n",
    "\n",
    "You are given a table containing information on users, their ages, and their time spent on a specific activity. Write a query to obtain a breakdown of the time spent sending vs opening as a percentage of the total time spent on these activities for each age group. Your output should be the age bucket and the percentage of sendig and opening. Round the percentages to 2 decimal places.\n",
    "\n",
    "Data Information\n",
    "\n",
    "`activities` **Table**\n",
    "\n",
    "Column Name | Type\n",
    "------------|------\n",
    "activity_id | integer\n",
    "user_id | integer\n",
    "activity_type | string\n",
    "time_spent | float\n",
    "activity_date | datetime\n",
    "\n",
    "`age_breakdown` **Table**\n",
    "\n",
    "Column Name | Type\n",
    "------------|------\n",
    "user_id | integer\n",
    "age_bucket | string\n",
    "\n",
    "The `activity_type` can only be one of three options `\"send\"`, `\"open\"`, or `\"chat\"`.\n",
    "The `age_bucket` can only be one of three options `\"21-25\"`, `\"26-30\"`, or `\"31-35\"`\n",
    "\n",
    "My solution is below"
   ]
  },
  {
   "cell_type": "markdown",
   "metadata": {},
   "source": [
    "```SQL\n",
    "WITH joined_table AS (\n",
    "  SELECT activities.activity_id,\n",
    "    activities.user_id,\n",
    "    age_breakdown.age_bucket,\n",
    "    activities.activity_type,\n",
    "    activities.time_spent\n",
    "  FROM activities LEFT JOIN age_breakdown\n",
    "    ON activities.user_id = age_breakdown.user_id\n",
    "  \n",
    "  \n",
    ")\n",
    "\n",
    "SELECT age_bucket,\n",
    "  ROUND(\n",
    "    100.0 * \n",
    "    SUM(CASE WHEN activity_type = 'send' THEN time_spent ELSE NULL END) / \n",
    "    SUM(CASE WHEN activity_type <> 'chat' THEN time_spent ELSE NULL END)\n",
    "    , 2) AS send_perc,\n",
    "  ROUND(\n",
    "    100.0 * \n",
    "    SUM(CASE WHEN activity_type = 'open' THEN time_spent ELSE NULL END) / \n",
    "    SUM(CASE WHEN activity_type <> 'chat' THEN time_spent ELSE NULL END)\n",
    "    , 2) AS open_perc  \n",
    "FROM joined_table\n",
    "\n",
    "GROUP BY age_bucket\n",
    "\n",
    ";\n",
    "```"
   ]
  },
  {
   "cell_type": "markdown",
   "metadata": {},
   "source": [
    "So here we are first joining the table and making sure to only import the columns that we need to create the desired output. Then we compute the percentages using a `CASE` command. However, I originally defaulted to the following logic:\n",
    "\n",
    "```SQL\n",
    " ROUND(\n",
    "    100.0 * \n",
    "    SUM(CASE WHEN activity_type = 'send' THEN 1 ELSE NULL END) / \n",
    "    SUM(CASE WHEN activity_type <> 'chat' THEN 1 ELSE NULL END)\n",
    "    , 2)\n",
    "```\n",
    "\n",
    "This is incorrect as it computes the percentage of activities that are \"send\" activities out of the total number of send and open activities, but it does not compute the percentage of time spent!"
   ]
  },
  {
   "cell_type": "markdown",
   "metadata": {},
   "source": [
    "```SQL\n",
    "\n",
    "```"
   ]
  }
 ],
 "metadata": {
  "kernelspec": {
   "display_name": "Python 3.10.8 64-bit (microsoft store)",
   "language": "python",
   "name": "python3"
  },
  "language_info": {
   "name": "python",
   "version": "3.10.8"
  },
  "orig_nbformat": 4,
  "vscode": {
   "interpreter": {
    "hash": "dc27b5ea16c50597207fc41a8e29023354377bb996637c8acdb6a50256c3f870"
   }
  }
 },
 "nbformat": 4,
 "nbformat_minor": 2
}
